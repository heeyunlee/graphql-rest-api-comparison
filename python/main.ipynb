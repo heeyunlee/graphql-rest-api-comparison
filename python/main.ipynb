{
 "cells": [
  {
   "cell_type": "code",
   "execution_count": null,
   "metadata": {},
   "outputs": [],
   "source": [
    "import requests, json, sys, math, time\n",
    "import pandas as pd\n",
    "from typing import List"
   ]
  },
  {
   "cell_type": "code",
   "execution_count": null,
   "metadata": {},
   "outputs": [],
   "source": [
    "baseUrl = 'https://www.tonal.com'"
   ]
  },
  {
   "cell_type": "code",
   "execution_count": null,
   "metadata": {},
   "outputs": [],
   "source": [
    "def convert_size(size_bytes):\n",
    "   if size_bytes == 0:\n",
    "       return \"0B\"\n",
    "   size_name = (\"B\", \"KB\", \"MB\", \"GB\", \"TB\", \"PB\", \"EB\", \"ZB\", \"YB\")\n",
    "   i = int(math.floor(math.log(size_bytes, 1024)))\n",
    "   p = math.pow(1024, i)\n",
    "   s = round(size_bytes / p, 2)\n",
    "   \n",
    "   return \"%s %s\" % (s, size_name[i])"
   ]
  },
  {
   "cell_type": "markdown",
   "metadata": {},
   "source": [
    "## REST"
   ]
  },
  {
   "cell_type": "code",
   "execution_count": null,
   "metadata": {},
   "outputs": [],
   "source": [
    "rest_list = []"
   ]
  },
  {
   "cell_type": "code",
   "execution_count": null,
   "metadata": {},
   "outputs": [],
   "source": [
    "for i in range(1, 26):\n",
    "    start = time.time()\n",
    "\n",
    "    posts_response = requests.get(f'{baseUrl}/wp-json/wp/v2/posts',params={'per_page':i})\n",
    "\n",
    "    response_data: List = json.loads(posts_response.text)\n",
    "    author_ids = [str(x['author']) for x in response_data]\n",
    "\n",
    "    authors_response = requests.get(f'{baseUrl}/wp-json/wp/v2/users',params={'include':','.join(author_ids)})\n",
    "\n",
    "    response_size = sys.getsizeof(posts_response.text + authors_response.text)\n",
    "    formatted_response_size = convert_size(response_size)\n",
    "\n",
    "    execution_time = round(time.time() - start, 2)\n",
    "\n",
    "    rest_list.append({'per_page': i, 'response_size': formatted_response_size, 'execution_time': execution_time})"
   ]
  },
  {
   "cell_type": "code",
   "execution_count": null,
   "metadata": {},
   "outputs": [],
   "source": [
    "a = pd.DataFrame(rest_list)\n",
    "a"
   ]
  },
  {
   "cell_type": "markdown",
   "metadata": {},
   "source": [
    "## GraphQL"
   ]
  },
  {
   "cell_type": "code",
   "execution_count": null,
   "metadata": {},
   "outputs": [],
   "source": [
    "from gql import Client, gql\n",
    "from gql.transport.aiohttp import AIOHTTPTransport"
   ]
  },
  {
   "cell_type": "code",
   "execution_count": null,
   "metadata": {},
   "outputs": [],
   "source": [
    "a = Client(transport=gql.transport.RequestsTransport())\n",
    "\n",
    "for i in range(1,11):\n",
    "    start = time.time()\n",
    "\n",
    "    \n",
    "    query=r\"\"\"\n",
    "    query {\n",
    "        posts(first: {first}) {\n",
    "            nodes {\n",
    "                id\n",
    "                title\n",
    "                author {\n",
    "                    node {\n",
    "                        name\n",
    "                    }\n",
    "                }\n",
    "            }\n",
    "        }\n",
    "    }\n",
    "    \"\"\".format(first=i)\n",
    "\n",
    "    print('query: ', query)\n",
    "\n",
    "    # response = requests.post(f'{baseUrl}/graphql',headers={'Content-Type': 'application/json'},data=json.dumps({'query': query}))\n",
    "\n",
    "    # response_data: List = json.loads(posts_response.text)\n",
    "    # author_ids = [str(x['author']) for x in response_data]\n",
    "\n",
    "    # authors_response = requests.get(f'{baseUrl}/wp-json/wp/v2/users',params={'include':','.join(author_ids)})\n",
    "\n",
    "    # print('authors_response: ', authors_response)\n",
    "\n",
    "    # data = sys.getsizeof(posts_response.text + authors_response.text)\n",
    "    # a = convert_size(data)\n",
    "\n",
    "    # execution_time = round(time.time() - start, 2)\n",
    "    # print(f'per page: {i}, size: {a}. time: {execution_time} seconds')"
   ]
  }
 ],
 "metadata": {
  "kernelspec": {
   "display_name": "Python 3.10.4 64-bit ('3.10.4')",
   "language": "python",
   "name": "python3"
  },
  "language_info": {
   "codemirror_mode": {
    "name": "ipython",
    "version": 3
   },
   "file_extension": ".py",
   "mimetype": "text/x-python",
   "name": "python",
   "nbconvert_exporter": "python",
   "pygments_lexer": "ipython3",
   "version": "3.10.4"
  },
  "orig_nbformat": 4,
  "vscode": {
   "interpreter": {
    "hash": "54f092b7b1f578a51201243f98b6fadb12960ed476c91aa2d65d0c102cfdcfd5"
   }
  }
 },
 "nbformat": 4,
 "nbformat_minor": 2
}
